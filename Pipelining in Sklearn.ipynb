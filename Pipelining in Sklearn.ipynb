{
  "nbformat": 4,
  "nbformat_minor": 0,
  "metadata": {
    "colab": {
      "name": "Step by Step Pipelining in Sklearn",
      "provenance": []
    },
    "kernelspec": {
      "name": "python3",
      "display_name": "Python 3"
    },
    "language_info": {
      "name": "python"
    }
  },
  "cells": [
    {
      "cell_type": "markdown",
      "source": [
        "# Pipelinig in Sklearn"
      ],
      "metadata": {
        "id": "ewMVKj7gCEVJ"
      }
    },
    {
      "cell_type": "markdown",
      "source": [
        "Some common preprocessing or transformations are:\n",
        "1. Imputing missing values\n",
        "2. Removing outliers\n",
        "3. Normalising or standardising numerical features\n",
        "4. Encoding categorical features\n",
        "\n",
        "Sci-kit learn has a bunch of functions that support this kind of transformation, such as StandardScaler, SimpleImputer…etc, under the preprocessing package."
      ],
      "metadata": {
        "id": "7hE2E6aNyhyr"
      }
    },
    {
      "cell_type": "markdown",
      "source": [
        "We will use daily bike share dataset "
      ],
      "metadata": {
        "id": "CG4T0oNhuMY0"
      }
    },
    {
      "cell_type": "code",
      "execution_count": 4,
      "metadata": {
        "colab": {
          "base_uri": "https://localhost:8080/"
        },
        "id": "Cpg-5-sItvrn",
        "outputId": "40744290-0c4f-4bb4-f68c-5eb497fac99d"
      },
      "outputs": [
        {
          "output_type": "stream",
          "name": "stdout",
          "text": [
            "<class 'pandas.core.frame.DataFrame'>\n",
            "RangeIndex: 731 entries, 0 to 730\n",
            "Data columns (total 14 columns):\n",
            " #   Column      Non-Null Count  Dtype  \n",
            "---  ------      --------------  -----  \n",
            " 0   instant     731 non-null    int64  \n",
            " 1   dteday      731 non-null    object \n",
            " 2   season      731 non-null    int64  \n",
            " 3   yr          731 non-null    int64  \n",
            " 4   mnth        731 non-null    int64  \n",
            " 5   holiday     731 non-null    int64  \n",
            " 6   weekday     731 non-null    int64  \n",
            " 7   workingday  731 non-null    int64  \n",
            " 8   weathersit  731 non-null    int64  \n",
            " 9   temp        731 non-null    float64\n",
            " 10  atemp       731 non-null    float64\n",
            " 11  hum         731 non-null    float64\n",
            " 12  windspeed   731 non-null    float64\n",
            " 13  rentals     731 non-null    int64  \n",
            "dtypes: float64(4), int64(9), object(1)\n",
            "memory usage: 80.1+ KB\n"
          ]
        }
      ],
      "source": [
        "import pandas as pd\n",
        "import numpy as np\n",
        "import matplotlib.pyplot as plt\n",
        "import seaborn as sns\n",
        "data = pd.read_csv('https://raw.githubusercontent.com/MicrosoftDocs/ml-basics/master/data/daily-bike-share.csv')\n",
        "data.info()"
      ]
    },
    {
      "cell_type": "markdown",
      "source": [
        "EDA"
      ],
      "metadata": {
        "id": "WFfnYhHQulbe"
      }
    },
    {
      "cell_type": "code",
      "source": [
        "data.isnull().sum()"
      ],
      "metadata": {
        "colab": {
          "base_uri": "https://localhost:8080/"
        },
        "id": "7KAq_LGruWse",
        "outputId": "ce80aa51-b58c-484e-b635-7919da685c26"
      },
      "execution_count": 3,
      "outputs": [
        {
          "output_type": "execute_result",
          "data": {
            "text/plain": [
              "instant       0\n",
              "dteday        0\n",
              "season        0\n",
              "yr            0\n",
              "mnth          0\n",
              "holiday       0\n",
              "weekday       0\n",
              "workingday    0\n",
              "weathersit    0\n",
              "temp          0\n",
              "atemp         0\n",
              "hum           0\n",
              "windspeed     0\n",
              "rentals       0\n",
              "dtype: int64"
            ]
          },
          "metadata": {},
          "execution_count": 3
        }
      ]
    },
    {
      "cell_type": "markdown",
      "source": [
        "Data looks clean"
      ],
      "metadata": {
        "id": "WEZbywvVvKX3"
      }
    },
    {
      "cell_type": "code",
      "source": [
        "sns.heatmap(data.isnull())"
      ],
      "metadata": {
        "colab": {
          "base_uri": "https://localhost:8080/",
          "height": 335
        },
        "id": "n_Sp56bCuvo_",
        "outputId": "7fe49b36-99b2-416c-f004-c7882788b72b"
      },
      "execution_count": 6,
      "outputs": [
        {
          "output_type": "execute_result",
          "data": {
            "text/plain": [
              "<matplotlib.axes._subplots.AxesSubplot at 0x7f4298cce290>"
            ]
          },
          "metadata": {},
          "execution_count": 6
        },
        {
          "output_type": "display_data",
          "data": {
            "image/png": "[encoded data removed]",
            "text/plain": [
              "<Figure size 432x288 with 2 Axes>"
            ]
          },
          "metadata": {
            "needs_background": "light"
          }
        }
      ]
    },
    {
      "cell_type": "markdown",
      "source": [
        "**Split the Data**\n",
        "\n",
        "Before creating pipline we need to split data into train and test"
      ],
      "metadata": {
        "id": "Fb2419RFzHOK"
      }
    },
    {
      "cell_type": "code",
      "source": [
        "from sklearn.model_selection import train_test_split\n",
        "X = data.drop('rentals',axis=1)\n",
        "y = data['rentals']\n",
        "\n",
        "x_train,x_test,y_train,y_test = train_test_split(X,y,test_size=0.2,random_state=41)\n",
        "x_train.shape,x_test.shape,y_train.shape,y_test.shape"
      ],
      "metadata": {
        "colab": {
          "base_uri": "https://localhost:8080/"
        },
        "id": "zc7Afkgjvsua",
        "outputId": "66ab8ba0-5059-413f-f165-e4ee50e84dce"
      },
      "execution_count": 10,
      "outputs": [
        {
          "output_type": "execute_result",
          "data": {
            "text/plain": [
              "((584, 13), (147, 13), (584,), (147,))"
            ]
          },
          "metadata": {},
          "execution_count": 10
        }
      ]
    },
    {
      "cell_type": "markdown",
      "source": [
        "# Creating Pipline"
      ],
      "metadata": {
        "id": "cX2b4G2W0yrF"
      }
    },
    {
      "cell_type": "markdown",
      "source": [
        "Preprocessor"
      ],
      "metadata": {
        "id": "ks3Dr6rg04t0"
      }
    },
    {
      "cell_type": "code",
      "source": [
        "from sklearn.preprocessing import StandardScaler,OrdinalEncoder\n",
        "from sklearn.impute import SimpleImputer\n",
        "from sklearn.compose import ColumnTransformer\n",
        "from sklearn.pipeline import Pipeline"
      ],
      "metadata": {
        "id": "SgBClhOv0xXU"
      },
      "execution_count": 13,
      "outputs": []
    },
    {
      "cell_type": "markdown",
      "source": [
        "Define numerical and categorical imputer sepratly\n",
        "\n",
        "Firstly, we need to define the transformers for both \n",
        "numeric and categorical features. A transforming step is represented by a tuple. In that tuple, you first define the name of the transformer, and then the function you want to apply. "
      ],
      "metadata": {
        "id": "hvBuMayB2Dgo"
      }
    },
    {
      "cell_type": "code",
      "source": [
        "numeric_transformer = Pipeline(steps=[\n",
        "       ('imputer', SimpleImputer(strategy='mean'))\n",
        "      ,('scaler', StandardScaler())\n",
        "])\n",
        "categorical_transformer = Pipeline(steps=[\n",
        "       ('imputer', SimpleImputer(strategy='constant'))\n",
        "      ,('encoder', OrdinalEncoder())\n",
        "])"
      ],
      "metadata": {
        "id": "pxkA00ME0nCC"
      },
      "execution_count": 16,
      "outputs": []
    },
    {
      "cell_type": "markdown",
      "source": [
        "The next thing we need to do is to specify which columns are numeric and which are categorical, so we can apply the transformers accordingly. We apply the transformers to features by using ColumnTransformer."
      ],
      "metadata": {
        "id": "NReTRtOfAKp_"
      }
    },
    {
      "cell_type": "code",
      "source": [
        "numeric_features = ['temp', 'atemp', 'hum', 'windspeed']\n",
        "categorical_features = ['season', 'mnth', 'holiday', 'weekday', 'workingday', 'weathersit']\n",
        "\n",
        "preprocessor = ColumnTransformer([\n",
        "                         ('numeric',numeric_transformer,numeric_features),\n",
        "                         ('categorical',categorical_transformer,categorical_features)\n",
        "])"
      ],
      "metadata": {
        "id": "aAFVhQkg3iRu"
      },
      "execution_count": 18,
      "outputs": []
    },
    {
      "cell_type": "markdown",
      "source": [
        "Estimator\n",
        "\n",
        "After assembling our preprocessor, we can then add in the estimator, which is the machine learning algorithm you’d like to apply, to complete our preprocessing and training pipeline. "
      ],
      "metadata": {
        "id": "EIQViSmlB12G"
      }
    },
    {
      "cell_type": "code",
      "source": [
        "from sklearn.ensemble import RandomForestRegressor\n",
        "\n",
        "pipline = Pipeline([\n",
        "                    ('preprocessor',preprocessor),\n",
        "                    ('regressor',RandomForestRegressor())\n",
        "])\n"
      ],
      "metadata": {
        "id": "pmYjTwfz-pwp"
      },
      "execution_count": 19,
      "outputs": []
    },
    {
      "cell_type": "code",
      "source": [
        "model = pipline.fit(x_train,y_train)"
      ],
      "metadata": {
        "id": "_M6Kbs0j_l5b"
      },
      "execution_count": 21,
      "outputs": []
    },
    {
      "cell_type": "code",
      "source": [
        "model.score(x_test,y_test)"
      ],
      "metadata": {
        "colab": {
          "base_uri": "https://localhost:8080/"
        },
        "id": "DXV7fQaV_vIv",
        "outputId": "48199458-e11b-49c2-b9f8-de486e80787e"
      },
      "execution_count": 23,
      "outputs": [
        {
          "output_type": "execute_result",
          "data": {
            "text/plain": [
              "0.8288880827476818"
            ]
          },
          "metadata": {},
          "execution_count": 23
        }
      ]
    },
    {
      "cell_type": "code",
      "source": [
        "from sklearn.svm import SVR\n",
        "\n",
        "pipeline_2 = Pipeline([\n",
        "                            ('preprocessor',preprocessor),\n",
        "                            ('regressor',SVR())\n",
        "                            ])\n",
        "pipeline_model_2 = pipeline_2.fit(x_train,y_train)"
      ],
      "metadata": {
        "id": "NrE6TgaX_0tZ"
      },
      "execution_count": 24,
      "outputs": []
    },
    {
      "cell_type": "code",
      "source": [
        "pipeline_model_2.score(x_test,y_test)"
      ],
      "metadata": {
        "colab": {
          "base_uri": "https://localhost:8080/"
        },
        "id": "iSfhKJ2qBdEf",
        "outputId": "2f09f335-7756-47c1-a527-30c9a0fa03c3"
      },
      "execution_count": 25,
      "outputs": [
        {
          "output_type": "execute_result",
          "data": {
            "text/plain": [
              "0.035618933025749255"
            ]
          },
          "metadata": {},
          "execution_count": 25
        }
      ]
    }
  ]
}